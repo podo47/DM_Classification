{
  "nbformat": 4,
  "nbformat_minor": 0,
  "metadata": {
    "colab": {
      "provenance": [],
      "toc_visible": true,
      "mount_file_id": "13Ex33VEEPr2Cy-qHxPZrxxmY58zATeCs",
      "authorship_tag": "ABX9TyO77KhwR/SmD8rqnX0ncXfV",
      "include_colab_link": true
    },
    "kernelspec": {
      "name": "python3",
      "display_name": "Python 3"
    },
    "language_info": {
      "name": "python"
    }
  },
  "cells": [
    {
      "cell_type": "markdown",
      "metadata": {
        "id": "view-in-github",
        "colab_type": "text"
      },
      "source": [
        "<a href=\"https://colab.research.google.com/github/podo47/DM_Classification/blob/main/DM_Classifier.ipynb\" target=\"_parent\"><img src=\"https://colab.research.google.com/assets/colab-badge.svg\" alt=\"Open In Colab\"/></a>"
      ]
    },
    {
      "cell_type": "markdown",
      "source": [
        "## Import libraries"
      ],
      "metadata": {
        "id": "Dg9WTQkzCT8v"
      }
    },
    {
      "cell_type": "code",
      "execution_count": 211,
      "metadata": {
        "id": "pK4cgar7EDkF"
      },
      "outputs": [],
      "source": [
        "import numpy as np # linear algebra\n",
        "import pandas as pd # data processing, CSV file I/O (e.g. pd.read_csv)"
      ]
    },
    {
      "cell_type": "code",
      "source": [
        "import warnings\n",
        "warnings.filterwarnings('ignore')"
      ],
      "metadata": {
        "id": "qebomw4LEwtS"
      },
      "execution_count": 212,
      "outputs": []
    },
    {
      "cell_type": "markdown",
      "source": [
        "## Import data"
      ],
      "metadata": {
        "id": "OM5O1G02CY28"
      }
    },
    {
      "cell_type": "code",
      "source": [
        "train_path = \"/content/drive/MyDrive/Data_Mining/Classification/training.txt\"\n",
        "test_path = \"/content/drive/MyDrive/Data_Mining/Classification/test.txt\"\n",
        "\n",
        "def read_file(path):\n",
        "  trans = []\n",
        "  with open(path) as ip:\n",
        "    for line in ip:\n",
        "        sp = line.strip('\\n')\n",
        "        sp = sp.strip('{}')\n",
        "        sp = sp.split(',')\n",
        "        trans.append(sp)\n",
        "  return trans\n",
        "\n",
        "train = read_file(train_path)\n",
        "test = read_file(test_path)"
      ],
      "metadata": {
        "id": "wNjVmnXdFIph"
      },
      "execution_count": 213,
      "outputs": []
    },
    {
      "cell_type": "markdown",
      "source": [
        "## Data preprocessing"
      ],
      "metadata": {
        "id": "RKxIOUWDC68m"
      }
    },
    {
      "cell_type": "markdown",
      "source": [
        "### Modify the format of input and read to list"
      ],
      "metadata": {
        "id": "S9lgTaCKCdQE"
      }
    },
    {
      "cell_type": "code",
      "source": [
        "def modify(data):\n",
        "  data_list = []\n",
        "  for row in data:\n",
        "    row_list = []\n",
        "    f_dict = {0:np.nan,1:np.nan,2:np.nan,3:np.nan,4:np.nan}\n",
        "    for item in row:\n",
        "      id = int(item[0])\n",
        "      f_dict[id] = item[2:]\n",
        "    \n",
        "    for i in range(len(f_dict)):\n",
        "      row_list.append(f_dict[i])\n",
        "\n",
        "    data_list.append(row_list)\n",
        "  \n",
        "  return data_list"
      ],
      "metadata": {
        "id": "T9eiHgXqStkk"
      },
      "execution_count": 214,
      "outputs": []
    },
    {
      "cell_type": "code",
      "source": [
        "train = modify(train)\n",
        "test = modify(test)"
      ],
      "metadata": {
        "id": "oDTSNl3GjAfF"
      },
      "execution_count": 215,
      "outputs": []
    },
    {
      "cell_type": "markdown",
      "source": [
        "### Read the data from list to dataframe"
      ],
      "metadata": {
        "id": "-6hNek23CoFn"
      }
    },
    {
      "cell_type": "code",
      "source": [
        "train_df = pd.DataFrame(train)\n",
        "train_df.columns = ['status','children','member','age','income']\n",
        "test_df = pd.DataFrame(test)\n",
        "test_df.columns = ['status','children','member','age','income']"
      ],
      "metadata": {
        "id": "sLlQrpZKjJY_"
      },
      "execution_count": 216,
      "outputs": []
    },
    {
      "cell_type": "markdown",
      "source": [
        "### Dealing the missing values "
      ],
      "metadata": {
        "id": "QGZ-LNyEDE86"
      }
    },
    {
      "cell_type": "code",
      "source": [
        "train_df['status'] = train_df['status'].fillna('S')\n",
        "test_df['status'] = test_df['status'].fillna('S')\n",
        "train_df['member'] = train_df['member'].fillna('Basic')\n",
        "test_df['member'] = test_df['member'].fillna('Basic')\n",
        "\n",
        "train_df['children'] = train_df['children'].apply(pd.to_numeric)\n",
        "train_df['children'] = train_df['children'].fillna(value=train_df['children'].mean())\n",
        "test_df['children'] = test_df['children'].apply(pd.to_numeric)\n",
        "test_df['children'] = test_df['children'].fillna(value=test_df['children'].mean())\n",
        "train_df['age'] = train_df['age'].apply(pd.to_numeric)\n",
        "train_df['age'] = train_df['age'].fillna(value=train_df['age'].mean())\n",
        "test_df['age'] = test_df['age'].apply(pd.to_numeric)\n",
        "test_df['age'] = test_df['age'].fillna(value=test_df['age'].mean())\n",
        "train_df['income'] = train_df['income'].apply(pd.to_numeric)\n",
        "train_df['income'] = train_df['income'].fillna(value=train_df['income'].mean())\n",
        "test_df['income'] = test_df['income'].apply(pd.to_numeric)\n",
        "test_df['income'] = test_df['income'].fillna(value=test_df['income'].mean())\n",
        "\n",
        "train_df = train_df.round(0)\n",
        "test_df = test_df.round(0)"
      ],
      "metadata": {
        "id": "glXh92aknKGh"
      },
      "execution_count": 217,
      "outputs": []
    },
    {
      "cell_type": "markdown",
      "source": [
        "### Label Encoding"
      ],
      "metadata": {
        "id": "Qfni4w17DNvk"
      }
    },
    {
      "cell_type": "code",
      "source": [
        "train_df['status'] = train_df['status'].map({'M': 1, 'S': 0})\n",
        "train_df['member'] = train_df['member'].map({'Basic': 0, \"Normal\":1, \"Silver\":2, \"Gold\":3})\n",
        "\n",
        "test_df['status'] = test_df['status'].map({'M': 1, 'S': 0})\n",
        "test_df['member'] = test_df['member'].map({'Basic': 0, \"Normal\":1, \"Silver\":2, \"Gold\":3})\n"
      ],
      "metadata": {
        "id": "depzHkiS4hcC"
      },
      "execution_count": 218,
      "outputs": []
    },
    {
      "cell_type": "code",
      "source": [
        "train_df.head()"
      ],
      "metadata": {
        "colab": {
          "base_uri": "https://localhost:8080/",
          "height": 206
        },
        "id": "u-XkgLY65jDd",
        "outputId": "8f99b313-f065-4079-ccf9-5cba01f5589b"
      },
      "execution_count": 219,
      "outputs": [
        {
          "output_type": "execute_result",
          "data": {
            "text/plain": [
              "   status  children  member  age  income\n",
              "0       0       1.0       0   39  100000\n",
              "1       1       2.0       3   85   80000\n",
              "2       1       1.0       3   90   20000\n",
              "3       0       2.0       1   31   20000\n",
              "4       1       2.0       0   49   40000"
            ],
            "text/html": [
              "\n",
              "  <div id=\"df-1fed44a9-8c9e-4234-85a0-26916334dc2a\">\n",
              "    <div class=\"colab-df-container\">\n",
              "      <div>\n",
              "<style scoped>\n",
              "    .dataframe tbody tr th:only-of-type {\n",
              "        vertical-align: middle;\n",
              "    }\n",
              "\n",
              "    .dataframe tbody tr th {\n",
              "        vertical-align: top;\n",
              "    }\n",
              "\n",
              "    .dataframe thead th {\n",
              "        text-align: right;\n",
              "    }\n",
              "</style>\n",
              "<table border=\"1\" class=\"dataframe\">\n",
              "  <thead>\n",
              "    <tr style=\"text-align: right;\">\n",
              "      <th></th>\n",
              "      <th>status</th>\n",
              "      <th>children</th>\n",
              "      <th>member</th>\n",
              "      <th>age</th>\n",
              "      <th>income</th>\n",
              "    </tr>\n",
              "  </thead>\n",
              "  <tbody>\n",
              "    <tr>\n",
              "      <th>0</th>\n",
              "      <td>0</td>\n",
              "      <td>1.0</td>\n",
              "      <td>0</td>\n",
              "      <td>39</td>\n",
              "      <td>100000</td>\n",
              "    </tr>\n",
              "    <tr>\n",
              "      <th>1</th>\n",
              "      <td>1</td>\n",
              "      <td>2.0</td>\n",
              "      <td>3</td>\n",
              "      <td>85</td>\n",
              "      <td>80000</td>\n",
              "    </tr>\n",
              "    <tr>\n",
              "      <th>2</th>\n",
              "      <td>1</td>\n",
              "      <td>1.0</td>\n",
              "      <td>3</td>\n",
              "      <td>90</td>\n",
              "      <td>20000</td>\n",
              "    </tr>\n",
              "    <tr>\n",
              "      <th>3</th>\n",
              "      <td>0</td>\n",
              "      <td>2.0</td>\n",
              "      <td>1</td>\n",
              "      <td>31</td>\n",
              "      <td>20000</td>\n",
              "    </tr>\n",
              "    <tr>\n",
              "      <th>4</th>\n",
              "      <td>1</td>\n",
              "      <td>2.0</td>\n",
              "      <td>0</td>\n",
              "      <td>49</td>\n",
              "      <td>40000</td>\n",
              "    </tr>\n",
              "  </tbody>\n",
              "</table>\n",
              "</div>\n",
              "      <button class=\"colab-df-convert\" onclick=\"convertToInteractive('df-1fed44a9-8c9e-4234-85a0-26916334dc2a')\"\n",
              "              title=\"Convert this dataframe to an interactive table.\"\n",
              "              style=\"display:none;\">\n",
              "        \n",
              "  <svg xmlns=\"http://www.w3.org/2000/svg\" height=\"24px\"viewBox=\"0 0 24 24\"\n",
              "       width=\"24px\">\n",
              "    <path d=\"M0 0h24v24H0V0z\" fill=\"none\"/>\n",
              "    <path d=\"M18.56 5.44l.94 2.06.94-2.06 2.06-.94-2.06-.94-.94-2.06-.94 2.06-2.06.94zm-11 1L8.5 8.5l.94-2.06 2.06-.94-2.06-.94L8.5 2.5l-.94 2.06-2.06.94zm10 10l.94 2.06.94-2.06 2.06-.94-2.06-.94-.94-2.06-.94 2.06-2.06.94z\"/><path d=\"M17.41 7.96l-1.37-1.37c-.4-.4-.92-.59-1.43-.59-.52 0-1.04.2-1.43.59L10.3 9.45l-7.72 7.72c-.78.78-.78 2.05 0 2.83L4 21.41c.39.39.9.59 1.41.59.51 0 1.02-.2 1.41-.59l7.78-7.78 2.81-2.81c.8-.78.8-2.07 0-2.86zM5.41 20L4 18.59l7.72-7.72 1.47 1.35L5.41 20z\"/>\n",
              "  </svg>\n",
              "      </button>\n",
              "      \n",
              "  <style>\n",
              "    .colab-df-container {\n",
              "      display:flex;\n",
              "      flex-wrap:wrap;\n",
              "      gap: 12px;\n",
              "    }\n",
              "\n",
              "    .colab-df-convert {\n",
              "      background-color: #E8F0FE;\n",
              "      border: none;\n",
              "      border-radius: 50%;\n",
              "      cursor: pointer;\n",
              "      display: none;\n",
              "      fill: #1967D2;\n",
              "      height: 32px;\n",
              "      padding: 0 0 0 0;\n",
              "      width: 32px;\n",
              "    }\n",
              "\n",
              "    .colab-df-convert:hover {\n",
              "      background-color: #E2EBFA;\n",
              "      box-shadow: 0px 1px 2px rgba(60, 64, 67, 0.3), 0px 1px 3px 1px rgba(60, 64, 67, 0.15);\n",
              "      fill: #174EA6;\n",
              "    }\n",
              "\n",
              "    [theme=dark] .colab-df-convert {\n",
              "      background-color: #3B4455;\n",
              "      fill: #D2E3FC;\n",
              "    }\n",
              "\n",
              "    [theme=dark] .colab-df-convert:hover {\n",
              "      background-color: #434B5C;\n",
              "      box-shadow: 0px 1px 3px 1px rgba(0, 0, 0, 0.15);\n",
              "      filter: drop-shadow(0px 1px 2px rgba(0, 0, 0, 0.3));\n",
              "      fill: #FFFFFF;\n",
              "    }\n",
              "  </style>\n",
              "\n",
              "      <script>\n",
              "        const buttonEl =\n",
              "          document.querySelector('#df-1fed44a9-8c9e-4234-85a0-26916334dc2a button.colab-df-convert');\n",
              "        buttonEl.style.display =\n",
              "          google.colab.kernel.accessAllowed ? 'block' : 'none';\n",
              "\n",
              "        async function convertToInteractive(key) {\n",
              "          const element = document.querySelector('#df-1fed44a9-8c9e-4234-85a0-26916334dc2a');\n",
              "          const dataTable =\n",
              "            await google.colab.kernel.invokeFunction('convertToInteractive',\n",
              "                                                     [key], {});\n",
              "          if (!dataTable) return;\n",
              "\n",
              "          const docLinkHtml = 'Like what you see? Visit the ' +\n",
              "            '<a target=\"_blank\" href=https://colab.research.google.com/notebooks/data_table.ipynb>data table notebook</a>'\n",
              "            + ' to learn more about interactive tables.';\n",
              "          element.innerHTML = '';\n",
              "          dataTable['output_type'] = 'display_data';\n",
              "          await google.colab.output.renderOutput(dataTable, element);\n",
              "          const docLink = document.createElement('div');\n",
              "          docLink.innerHTML = docLinkHtml;\n",
              "          element.appendChild(docLink);\n",
              "        }\n",
              "      </script>\n",
              "    </div>\n",
              "  </div>\n",
              "  "
            ]
          },
          "metadata": {},
          "execution_count": 219
        }
      ]
    },
    {
      "cell_type": "markdown",
      "source": [
        "### Declare feature vector and target variable"
      ],
      "metadata": {
        "id": "ywjzO1q_5wLy"
      }
    },
    {
      "cell_type": "code",
      "source": [
        "train_X = train_df.drop(['member'], axis=1)\n",
        "train_y = train_df['member']\n",
        "X_test = test_df.drop(['member'], axis=1)\n",
        "y_test = test_df['member']"
      ],
      "metadata": {
        "id": "SzeFN5O856x0"
      },
      "execution_count": 220,
      "outputs": []
    },
    {
      "cell_type": "markdown",
      "source": [
        "## Naïve Bayer classifier"
      ],
      "metadata": {
        "id": "YXfNHD0_7-SV"
      }
    },
    {
      "cell_type": "code",
      "source": [
        "import math\n",
        "class Gaussian_Bayes():\n",
        "  def __init__(self):\n",
        "    pass\n",
        "  # Build the model\n",
        "  def fit(self,X_train,y_train):\n",
        "    self.training_data = X_train.copy()\n",
        "    self.gb_y_train = pd.DataFrame(y_train.values, columns = ['claim'])\n",
        "    self.training_data['claim'] = y_train.values\n",
        "    self.find_mean = self.training_data.groupby(\"claim\").mean() # Mean for gaussian\n",
        "    self.find_var = self.training_data.groupby(\"claim\").var() # Variance for gaussian\n",
        "    self.prior_prob = self.Prior()\n",
        "    return self\n",
        "  \n",
        "  # Prior probability\n",
        "  def Prior(self):\n",
        "    label = self.gb_y_train['claim'].value_counts().sort_index()\n",
        "    pri = []\n",
        "    for c in label :\n",
        "      pri.append(c/sum(label))\n",
        "    prior_prob = np.array(pri)\n",
        "    return prior_prob\n",
        "    \n",
        "  # Calculate with gaussian distribution\n",
        "  def Distribution(self,mu,variance,feature):\n",
        "    norm = 1/np.sqrt(2*math.pi*variance)*np.exp(-(feature-mu)**2/(2*variance)) # Normal distribution\n",
        "    norm = pd.DataFrame(norm).prod(axis=1) # P(x1,x2,...,xn|yi)\n",
        "    return norm\n",
        "\n",
        "  # Prediction\n",
        "  def predict(self,X_test):\n",
        "    final_prob = []\n",
        "    for feature in X_test.values :\n",
        "      prob=self.Distribution(self.find_mean,self.find_var,feature)*self.prior_prob\n",
        "      final_prob.append(prob)\n",
        "    result=np.argmax(final_prob, axis=1)  # argmax for prediction\n",
        "    return result"
      ],
      "metadata": {
        "id": "CxVirRSp8AGj"
      },
      "execution_count": 221,
      "outputs": []
    },
    {
      "cell_type": "code",
      "source": [
        "nb = Gaussian_Bayes()"
      ],
      "metadata": {
        "id": "omP3rdTL8FnP"
      },
      "execution_count": 222,
      "outputs": []
    },
    {
      "cell_type": "markdown",
      "source": [
        "### Fit the model and predict the class"
      ],
      "metadata": {
        "id": "p3h9qsGUDij-"
      }
    },
    {
      "cell_type": "code",
      "source": [
        "nb.fit(train_X,train_y)\n",
        "# Test set prediction\n",
        "y_test_nb = nb.predict(X_test)\n",
        "# Train set prediction\n",
        "y_train_nb = nb.predict(train_X)"
      ],
      "metadata": {
        "id": "5TfDwZzp8HZe"
      },
      "execution_count": 223,
      "outputs": []
    },
    {
      "cell_type": "markdown",
      "source": [
        "### Check accuracy score"
      ],
      "metadata": {
        "id": "ZBQq8mXODuop"
      }
    },
    {
      "cell_type": "code",
      "source": [
        "from sklearn.metrics import accuracy_score"
      ],
      "metadata": {
        "id": "H9XAe0-48JHr"
      },
      "execution_count": 224,
      "outputs": []
    },
    {
      "cell_type": "code",
      "source": [
        "# Train set accuracy\n",
        "train_accuracy_nb = accuracy_score(train_y,y_train_nb)\n",
        "# Test set accuracy\n",
        "test_accuracy_nb = accuracy_score(y_test,y_test_nb)\n",
        "\n",
        "print('Test set accuracy : {0:0.4f}'. format(test_accuracy_nb))\n",
        "# Show the train set accuracy to check if overfitting\n",
        "print('Train set accuracy : {0:0.4f}'. format(train_accuracy_nb))"
      ],
      "metadata": {
        "colab": {
          "base_uri": "https://localhost:8080/"
        },
        "id": "VciNLUpA8VKW",
        "outputId": "3aa297ac-ddf3-4087-ce0b-5225c92e1bb4"
      },
      "execution_count": 225,
      "outputs": [
        {
          "output_type": "stream",
          "name": "stdout",
          "text": [
            "Test set accuracy : 0.6540\n",
            "Train set accuracy : 0.6130\n"
          ]
        }
      ]
    },
    {
      "cell_type": "markdown",
      "source": [
        "## Output as csv"
      ],
      "metadata": {
        "id": "BJdRHESkD6rs"
      }
    },
    {
      "cell_type": "code",
      "source": [
        "result_df = pd.DataFrame(test)\n",
        "result_df.columns = ['status','children','member','age','income']\n",
        "result_df['member'] = result_df['member'].fillna('Basic')\n",
        "\n",
        "result_df['predict_member_card'] = y_test_nb\n",
        "result_df['predict_member_card'] = result_df['predict_member_card'].map({0: 'Basic', 1:\"Normal\", 2:\"Silver\", 3:\"Gold\"})"
      ],
      "metadata": {
        "id": "-aRDq5c88-g5"
      },
      "execution_count": 226,
      "outputs": []
    },
    {
      "cell_type": "code",
      "source": [
        "result_df.head()"
      ],
      "metadata": {
        "colab": {
          "base_uri": "https://localhost:8080/",
          "height": 206
        },
        "id": "Y6MAIn6r_WGl",
        "outputId": "e89eb5a9-7d4c-4bd6-b498-9874ce9feeb3"
      },
      "execution_count": 227,
      "outputs": [
        {
          "output_type": "execute_result",
          "data": {
            "text/plain": [
              "  status children  member age  income predict_member_card\n",
              "0      M        1   Basic  59   60000               Basic\n",
              "1    NaN        3  Silver  43  160000                Gold\n",
              "2      M        2   Basic  52  120000               Basic\n",
              "3      M        2  Normal  30   60000               Basic\n",
              "4    NaN      NaN   Basic  73   60000               Basic"
            ],
            "text/html": [
              "\n",
              "  <div id=\"df-451a4d3b-d4eb-4c90-b209-cf6d37f40c1f\">\n",
              "    <div class=\"colab-df-container\">\n",
              "      <div>\n",
              "<style scoped>\n",
              "    .dataframe tbody tr th:only-of-type {\n",
              "        vertical-align: middle;\n",
              "    }\n",
              "\n",
              "    .dataframe tbody tr th {\n",
              "        vertical-align: top;\n",
              "    }\n",
              "\n",
              "    .dataframe thead th {\n",
              "        text-align: right;\n",
              "    }\n",
              "</style>\n",
              "<table border=\"1\" class=\"dataframe\">\n",
              "  <thead>\n",
              "    <tr style=\"text-align: right;\">\n",
              "      <th></th>\n",
              "      <th>status</th>\n",
              "      <th>children</th>\n",
              "      <th>member</th>\n",
              "      <th>age</th>\n",
              "      <th>income</th>\n",
              "      <th>predict_member_card</th>\n",
              "    </tr>\n",
              "  </thead>\n",
              "  <tbody>\n",
              "    <tr>\n",
              "      <th>0</th>\n",
              "      <td>M</td>\n",
              "      <td>1</td>\n",
              "      <td>Basic</td>\n",
              "      <td>59</td>\n",
              "      <td>60000</td>\n",
              "      <td>Basic</td>\n",
              "    </tr>\n",
              "    <tr>\n",
              "      <th>1</th>\n",
              "      <td>NaN</td>\n",
              "      <td>3</td>\n",
              "      <td>Silver</td>\n",
              "      <td>43</td>\n",
              "      <td>160000</td>\n",
              "      <td>Gold</td>\n",
              "    </tr>\n",
              "    <tr>\n",
              "      <th>2</th>\n",
              "      <td>M</td>\n",
              "      <td>2</td>\n",
              "      <td>Basic</td>\n",
              "      <td>52</td>\n",
              "      <td>120000</td>\n",
              "      <td>Basic</td>\n",
              "    </tr>\n",
              "    <tr>\n",
              "      <th>3</th>\n",
              "      <td>M</td>\n",
              "      <td>2</td>\n",
              "      <td>Normal</td>\n",
              "      <td>30</td>\n",
              "      <td>60000</td>\n",
              "      <td>Basic</td>\n",
              "    </tr>\n",
              "    <tr>\n",
              "      <th>4</th>\n",
              "      <td>NaN</td>\n",
              "      <td>NaN</td>\n",
              "      <td>Basic</td>\n",
              "      <td>73</td>\n",
              "      <td>60000</td>\n",
              "      <td>Basic</td>\n",
              "    </tr>\n",
              "  </tbody>\n",
              "</table>\n",
              "</div>\n",
              "      <button class=\"colab-df-convert\" onclick=\"convertToInteractive('df-451a4d3b-d4eb-4c90-b209-cf6d37f40c1f')\"\n",
              "              title=\"Convert this dataframe to an interactive table.\"\n",
              "              style=\"display:none;\">\n",
              "        \n",
              "  <svg xmlns=\"http://www.w3.org/2000/svg\" height=\"24px\"viewBox=\"0 0 24 24\"\n",
              "       width=\"24px\">\n",
              "    <path d=\"M0 0h24v24H0V0z\" fill=\"none\"/>\n",
              "    <path d=\"M18.56 5.44l.94 2.06.94-2.06 2.06-.94-2.06-.94-.94-2.06-.94 2.06-2.06.94zm-11 1L8.5 8.5l.94-2.06 2.06-.94-2.06-.94L8.5 2.5l-.94 2.06-2.06.94zm10 10l.94 2.06.94-2.06 2.06-.94-2.06-.94-.94-2.06-.94 2.06-2.06.94z\"/><path d=\"M17.41 7.96l-1.37-1.37c-.4-.4-.92-.59-1.43-.59-.52 0-1.04.2-1.43.59L10.3 9.45l-7.72 7.72c-.78.78-.78 2.05 0 2.83L4 21.41c.39.39.9.59 1.41.59.51 0 1.02-.2 1.41-.59l7.78-7.78 2.81-2.81c.8-.78.8-2.07 0-2.86zM5.41 20L4 18.59l7.72-7.72 1.47 1.35L5.41 20z\"/>\n",
              "  </svg>\n",
              "      </button>\n",
              "      \n",
              "  <style>\n",
              "    .colab-df-container {\n",
              "      display:flex;\n",
              "      flex-wrap:wrap;\n",
              "      gap: 12px;\n",
              "    }\n",
              "\n",
              "    .colab-df-convert {\n",
              "      background-color: #E8F0FE;\n",
              "      border: none;\n",
              "      border-radius: 50%;\n",
              "      cursor: pointer;\n",
              "      display: none;\n",
              "      fill: #1967D2;\n",
              "      height: 32px;\n",
              "      padding: 0 0 0 0;\n",
              "      width: 32px;\n",
              "    }\n",
              "\n",
              "    .colab-df-convert:hover {\n",
              "      background-color: #E2EBFA;\n",
              "      box-shadow: 0px 1px 2px rgba(60, 64, 67, 0.3), 0px 1px 3px 1px rgba(60, 64, 67, 0.15);\n",
              "      fill: #174EA6;\n",
              "    }\n",
              "\n",
              "    [theme=dark] .colab-df-convert {\n",
              "      background-color: #3B4455;\n",
              "      fill: #D2E3FC;\n",
              "    }\n",
              "\n",
              "    [theme=dark] .colab-df-convert:hover {\n",
              "      background-color: #434B5C;\n",
              "      box-shadow: 0px 1px 3px 1px rgba(0, 0, 0, 0.15);\n",
              "      filter: drop-shadow(0px 1px 2px rgba(0, 0, 0, 0.3));\n",
              "      fill: #FFFFFF;\n",
              "    }\n",
              "  </style>\n",
              "\n",
              "      <script>\n",
              "        const buttonEl =\n",
              "          document.querySelector('#df-451a4d3b-d4eb-4c90-b209-cf6d37f40c1f button.colab-df-convert');\n",
              "        buttonEl.style.display =\n",
              "          google.colab.kernel.accessAllowed ? 'block' : 'none';\n",
              "\n",
              "        async function convertToInteractive(key) {\n",
              "          const element = document.querySelector('#df-451a4d3b-d4eb-4c90-b209-cf6d37f40c1f');\n",
              "          const dataTable =\n",
              "            await google.colab.kernel.invokeFunction('convertToInteractive',\n",
              "                                                     [key], {});\n",
              "          if (!dataTable) return;\n",
              "\n",
              "          const docLinkHtml = 'Like what you see? Visit the ' +\n",
              "            '<a target=\"_blank\" href=https://colab.research.google.com/notebooks/data_table.ipynb>data table notebook</a>'\n",
              "            + ' to learn more about interactive tables.';\n",
              "          element.innerHTML = '';\n",
              "          dataTable['output_type'] = 'display_data';\n",
              "          await google.colab.output.renderOutput(dataTable, element);\n",
              "          const docLink = document.createElement('div');\n",
              "          docLink.innerHTML = docLinkHtml;\n",
              "          element.appendChild(docLink);\n",
              "        }\n",
              "      </script>\n",
              "    </div>\n",
              "  </div>\n",
              "  "
            ]
          },
          "metadata": {},
          "execution_count": 227
        }
      ]
    },
    {
      "cell_type": "code",
      "source": [
        "output_path = \"/content/drive/MyDrive/Data_Mining/Classification/output.csv\"\n",
        "result_df.to_csv(output_path,header=True)"
      ],
      "metadata": {
        "id": "80mjvf-bBopC"
      },
      "execution_count": 228,
      "outputs": []
    }
  ]
}